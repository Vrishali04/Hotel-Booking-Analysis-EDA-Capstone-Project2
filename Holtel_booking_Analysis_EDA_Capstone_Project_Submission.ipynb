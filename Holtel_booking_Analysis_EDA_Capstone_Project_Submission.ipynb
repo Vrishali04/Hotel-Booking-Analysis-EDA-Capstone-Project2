{
  "nbformat": 4,
  "nbformat_minor": 0,
  "metadata": {
    "colab": {
      "private_outputs": true,
      "provenance": [],
      "collapsed_sections": [
        "w6K7xa23Elo4",
        "yQaldy8SH6Dl",
        "PH-0ReGfmX4f",
        "mDgbUHAGgjLW",
        "7hBIi_osiCS2",
        "JlHwYmJAmNHm",
        "35m5QtbWiB9F",
        "PoPl-ycgm1ru",
        "H0kj-8xxnORC",
        "nA9Y7ga8ng1Z",
        "PBTbrJXOngz2",
        "u3PMJOP6ngxN",
        "dauF4eBmngu3",
        "bKJF3rekwFvQ",
        "MSa1f5Uengrz",
        "GF8Ens_Soomf",
        "0wOQAZs5pc--",
        "K5QZ13OEpz2H",
        "lQ7QKXXCp7Bj",
        "448CDAPjqfQr",
        "KSlN3yHqYklG",
        "t6dVpIINYklI",
        "ijmpgYnKYklI",
        "-JiQyfWJYklI",
        "EM7whBJCYoAo",
        "fge-S5ZAYoAp",
        "85gYPyotYoAp",
        "RoGjAbkUYoAp",
        "4Of9eVA-YrdM",
        "iky9q4vBYrdO",
        "F6T5p64dYrdO",
        "y-Ehk30pYrdP",
        "bamQiAODYuh1",
        "QHF8YVU7Yuh3",
        "GwzvFGzlYuh3",
        "qYpmQ266Yuh3",
        "OH-pJp9IphqM",
        "bbFf2-_FphqN",
        "_ouA3fa0phqN",
        "Seke61FWphqN",
        "PIIx-8_IphqN",
        "t27r6nlMphqO",
        "r2jJGEOYphqO",
        "b0JNsNcRphqO",
        "BZR9WyysphqO",
        "jj7wYXLtphqO",
        "eZrbJ2SmphqO",
        "rFu4xreNphqO",
        "YJ55k-q6phqO",
        "gCFgpxoyphqP",
        "OVtJsKN_phqQ",
        "lssrdh5qphqQ",
        "U2RJ9gkRphqQ",
        "1M8mcRywphqQ",
        "tgIPom80phqQ",
        "JMzcOPDDphqR",
        "x-EpHcCOp1ci",
        "X_VqEhTip1ck",
        "8zGJKyg5p1ck",
        "PVzmfK_Ep1ck",
        "n3dbpmDWp1ck",
        "ylSl6qgtp1ck",
        "ZWILFDl5p1ck",
        "M7G43BXep1ck",
        "Ag9LCva-p1cl",
        "E6MkPsBcp1cl",
        "2cELzS2fp1cl",
        "3MPXvC8up1cl",
        "NC_X3p0fY2L0",
        "UV0SzAkaZNRQ",
        "YPEH6qLeZNRQ",
        "q29F0dvdveiT",
        "EXh0U9oCveiU",
        "22aHeOlLveiV",
        "JcMwzZxoAimU",
        "8G2x9gOozGDZ",
        "gCX9965dhzqZ",
        "gIfDvo9L0UH2"
      ],
      "include_colab_link": true
    },
    "kernelspec": {
      "name": "python3",
      "display_name": "Python 3"
    },
    "language_info": {
      "name": "python"
    }
  },
  "cells": [
    {
      "cell_type": "markdown",
      "metadata": {
        "id": "view-in-github",
        "colab_type": "text"
      },
      "source": [
        "<a href=\"https://colab.research.google.com/github/Vrishali04/Hotel-Booking-Analysis-EDA-Capstone-Project2/blob/main/Holtel_booking_Analysis_EDA_Capstone_Project_Submission.ipynb\" target=\"_parent\"><img src=\"https://colab.research.google.com/assets/colab-badge.svg\" alt=\"Open In Colab\"/></a>"
      ]
    },
    {
      "cell_type": "markdown",
      "source": [
        "# **Project Name** - Hotel Booking Analysis EDA Copstone Project\n",
        "\n"
      ],
      "metadata": {
        "id": "vncDsAP0Gaoa"
      }
    },
    {
      "cell_type": "markdown",
      "source": [
        "##### **Project Type**    - Hotel_Booking_Analysi_ Capstone_project\n",
        "##### **Contribution**    - Individual\n",
        "##### **Team Member 1 - <b>Vrishali Late</b>"
      ],
      "metadata": {
        "id": "beRrZCGUAJYm"
      }
    },
    {
      "cell_type": "markdown",
      "source": [
        "# **Project Summary -**"
      ],
      "metadata": {
        "id": "FJNUwmbgGyua"
      }
    },
    {
      "cell_type": "markdown",
      "source": [
        "Write the summary here within 500-600 words.\n",
        "\"Digitalization\" has been identified as one of the major trends changing society and business. Nowadays everything is at fingerprints, though it may be online shopping, booking travel tickets, ordering food, ordering medicine or booking a Hotel. Online Hotel bookings have increased drastically in these recent years which has influenced revolutionarily to the \"Hospitality Industry\"   \n",
        " \n",
        "- <b>Every Hotel owner wants to grow up their business by making a control over the cancellation of Hotel booking. For this reason, they want to predict the reason of cancellation according to data insights and accordingly create a new strategy to improve the business.</b>\n",
        "\n",
        "\n",
        "- <b>What is EDA(Exploratory Data Analysis)</b>\n",
        "\n",
        "1. Exploratory Data Analysis can be defined as it is process of performing initial investigations on a data with the help of      different patterns and graphical representations. In EDA we observe the data from multiple angles so that we can grab the      desired analysis outcome.\n",
        "\n",
        "\n",
        "2. In EDA, we are going to explore the data and we will try to find the missing data as well the outliers present in our          dataset. Also we will check different data types present in different forms and visualize our data to get more insights from    data so that we can properly understand what actually the data is.\n",
        "\n",
        "- <b>In Our EDA (Exploratory Data Analysis) on Hotel booking data set, we are going to find below mentioned insights:</b>\n",
        "\n",
        "1. What are the major factors that impact on Hotel booking\n",
        "2. What are the factors that are benifitial for improving the service. \n",
        "3. Where the action should be taken to improve the service being provided. \n",
        "4. How various months of the year impact the hotel booking and many more insights we can find from the given dataset.\n",
        "\n",
        "---\n",
        "\n"
      ],
      "metadata": {
        "id": "F6v_1wHtG2nS"
      }
    },
    {
      "cell_type": "markdown",
      "source": [
        "# **GitHub Link -**\n",
        "\n"
      ],
      "metadata": {
        "id": "w6K7xa23Elo4"
      }
    },
    {
      "cell_type": "markdown",
      "source": [
        "Provide your GitHub Link here.\n",
        "\n",
        "https://github.com/Vrishali04/Hotel-Booking-Analysis-EDA-Capstone-Project2"
      ],
      "metadata": {
        "id": "h1o69JH3Eqqn"
      }
    },
    {
      "cell_type": "markdown",
      "source": [
        "# **Problem Statement**\n"
      ],
      "metadata": {
        "id": "yQaldy8SH6Dl"
      }
    },
    {
      "cell_type": "markdown",
      "source": [
        "**Write Problem Statement Here.**\n",
        "\n",
        "<b>This data set contains booking information for a city hotel and a resort hotel, and includes information such as when the booking was made, length of stay, the number of adults, children, and/or babies, and the number of available parking spaces, among other things. All personally identifying information has been removed from the data.\n",
        "Explore and analyze the data to discover important factors that govern the bookings.</b>"
      ],
      "metadata": {
        "id": "DpeJGUA3kjGy"
      }
    },
    {
      "cell_type": "markdown",
      "source": [
        "#### **Define Your Business Objective?**"
      ],
      "metadata": {
        "id": "PH-0ReGfmX4f"
      }
    },
    {
      "cell_type": "markdown",
      "source": [
        "Answer Here.\n",
        "\n",
        "<b>In Our EDA (Exploratory Data Analysis) on Hotel booking data set, we are going to find below mentioned insights:\n",
        "What are the major factors that impact on Hotel booking\n",
        "What are the factors that are benifitial for improving the service.\n",
        "Where the action should be taken to improve the service being provided.\n",
        "How various months of the year impact the hotel booking and many more insights we can find from the given dataset.</b>"
      ],
      "metadata": {
        "id": "PhDvGCAqmjP1"
      }
    },
    {
      "cell_type": "markdown",
      "source": [
        "# **General Guidelines** : -  "
      ],
      "metadata": {
        "id": "mDgbUHAGgjLW"
      }
    },
    {
      "cell_type": "markdown",
      "source": [
        "1.   Well-structured, formatted, and commented code is required. \n",
        "2.   Exception Handling, Production Grade Code & Deployment Ready Code will be a plus. Those students will be awarded some additional credits. \n",
        "     \n",
        "     The additional credits will have advantages over other students during Star Student selection.\n",
        "       \n",
        "             [ Note: - Deployment Ready Code is defined as, the whole .ipynb notebook should be executable in one go\n",
        "                       without a single error logged. ]\n",
        "\n",
        "3.   Each and every logic should have proper comments.\n",
        "4. You may add as many number of charts you want. Make Sure for each and every chart the following format should be answered.\n",
        "        \n",
        "\n",
        "```\n",
        "# Chart visualization code\n",
        "```\n",
        "            \n",
        "\n",
        "*   Why did you pick the specific chart?\n",
        "*   What is/are the insight(s) found from the chart?\n",
        "* Will the gained insights help creating a positive business impact? \n",
        "Are there any insights that lead to negative growth? Justify with specific reason.\n",
        "\n",
        "5. You have to create at least 20 logical & meaningful charts having important insights.\n",
        "\n",
        "\n",
        "[ Hints : - Do the Vizualization in  a structured way while following \"UBM\" Rule. \n",
        "\n",
        "U - Univariate Analysis,\n",
        "\n",
        "B - Bivariate Analysis (Numerical - Categorical, Numerical - Numerical, Categorical - Categorical)\n",
        "\n",
        "M - Multivariate Analysis\n",
        " ]\n",
        "\n",
        "\n",
        "\n"
      ],
      "metadata": {
        "id": "ZrxVaUj-hHfC"
      }
    },
    {
      "cell_type": "markdown",
      "source": [
        "# ***Let's Begin !***"
      ],
      "metadata": {
        "id": "O_i_v8NEhb9l"
      }
    },
    {
      "cell_type": "markdown",
      "source": [
        "## ***1. Know Your Data***"
      ],
      "metadata": {
        "id": "HhfV-JJviCcP"
      }
    },
    {
      "cell_type": "markdown",
      "source": [
        "### Import Libraries"
      ],
      "metadata": {
        "id": "Y3lxredqlCYt"
      }
    },
    {
      "cell_type": "code",
      "source": [
        "# To performe mathematical operations\n",
        "import numpy as np\n",
        "\n",
        "# To load data from file\n",
        "import pandas as pd\n",
        "\n",
        "# # To visualize the data and get more insight from the data\n",
        "import matplotlib.pyplot as plt\n",
        "import seaborn as sns\n",
        "\n",
        "# To avoid the warning that aren't necessarily exceptions\n",
        "import warnings\n",
        "warnings.filterwarnings('ignore')\n",
        "\n",
        "# Sets the backend of seaborn to the 'inline' backend\n",
        "sns.set()\n",
        "# Sets the backend of matplotlib to the 'inline' backend\n",
        "%matplotlib inline"
      ],
      "metadata": {
        "id": "M8Vqi-pPk-HR"
      },
      "execution_count": null,
      "outputs": []
    },
    {
      "cell_type": "markdown",
      "source": [
        "### Dataset Loading"
      ],
      "metadata": {
        "id": "3RnN4peoiCZX"
      }
    },
    {
      "cell_type": "code",
      "source": [
        "# Load Dataset\n",
        "# Mounting drive and read the csv file\n",
        "from google.colab import drive\n",
        "drive.mount('/content/drive')"
      ],
      "metadata": {
        "id": "4CkvbW_SlZ_R"
      },
      "execution_count": null,
      "outputs": []
    },
    {
      "cell_type": "code",
      "source": [
        "# Loading csv file path\n",
        "file_path ='/content/drive/MyDrive/Hotel Booking Analysis EDA Capstone Project/Hotel Bookings.csv'                                   \n",
        "\n",
        "# Reading dataset from \"Hotel Booking.csv\" using pandas read_csv\n",
        "data = pd.read_csv(file_path)"
      ],
      "metadata": {
        "id": "exkJeQfHF4DC"
      },
      "execution_count": null,
      "outputs": []
    },
    {
      "cell_type": "markdown",
      "source": [
        "### Dataset First View"
      ],
      "metadata": {
        "id": "x71ZqKXriCWQ"
      }
    },
    {
      "cell_type": "code",
      "source": [
        "# Dataset First Look\n",
        "# Printing first five elements from dataset using pandas head\n",
        "\n",
        "data.head(5)"
      ],
      "metadata": {
        "id": "LWNFOSvLl09H"
      },
      "execution_count": null,
      "outputs": []
    },
    {
      "cell_type": "code",
      "source": [
        "# Printing first five elements from dataset using pandas head\n",
        "\n",
        "data.tail(5)"
      ],
      "metadata": {
        "id": "Ez1ctR2EF7bI"
      },
      "execution_count": null,
      "outputs": []
    },
    {
      "cell_type": "markdown",
      "source": [
        "### Dataset Rows & Columns count"
      ],
      "metadata": {
        "id": "7hBIi_osiCS2"
      }
    },
    {
      "cell_type": "code",
      "source": [
        "# Dataset Rows & Columns count\n",
        "\n",
        "# Printing the shape of Dataset\n",
        "\n",
        "print(' The shape of the dataset is:',data.shape)     "
      ],
      "metadata": {
        "id": "Kllu7SJgmLij"
      },
      "execution_count": null,
      "outputs": []
    },
    {
      "cell_type": "code",
      "source": [
        "# Printing the number of columns and rows present in the dataset\n",
        "\n",
        "print('The number of rows:', data.shape[0])\n",
        "print('The number of columns:', data.shape[1])"
      ],
      "metadata": {
        "id": "2hT1p8h1zKAp"
      },
      "execution_count": null,
      "outputs": []
    },
    {
      "cell_type": "markdown",
      "source": [
        "### Dataset Information"
      ],
      "metadata": {
        "id": "JlHwYmJAmNHm"
      }
    },
    {
      "cell_type": "code",
      "source": [
        "# Dataset Info\n",
        "data.info()"
      ],
      "metadata": {
        "id": "e9hRXRi6meOf"
      },
      "execution_count": null,
      "outputs": []
    },
    {
      "cell_type": "markdown",
      "source": [
        "#### Duplicate Values"
      ],
      "metadata": {
        "id": "35m5QtbWiB9F"
      }
    },
    {
      "cell_type": "code",
      "source": [
        "# Dataset Duplicate Value Count\n",
        "data[data.duplicated()]"
      ],
      "metadata": {
        "id": "1sLdpKYkmox0"
      },
      "execution_count": null,
      "outputs": []
    },
    {
      "cell_type": "code",
      "source": [
        "# Using duplicated() method to get the duplicate enteries present in our dataset\n",
        "\n",
        "duplicated_data = data[data.duplicated()]\n",
        "print('Duplicate data present in our dataset:', duplicated_data.shape)\n",
        "\n",
        "print(f'\\n Number of rows containing duplicate entries: {duplicated_data.shape[0]}')"
      ],
      "metadata": {
        "id": "84o8taVezWC5"
      },
      "execution_count": null,
      "outputs": []
    },
    {
      "cell_type": "markdown",
      "source": [
        "Inference:\n",
        "There are total 31984 duplicate entries out of total 118898 entries in our dataset (after removal of missing values)"
      ],
      "metadata": {
        "id": "WY5v0VZ3zYYF"
      }
    },
    {
      "cell_type": "code",
      "source": [
        "# Using drop duplicates method to drop/delete duplicate entries from our dataset\n",
        "\n",
        "data.drop_duplicates(inplace = True)"
      ],
      "metadata": {
        "id": "H6vY1_jhzbVT"
      },
      "execution_count": null,
      "outputs": []
    },
    {
      "cell_type": "markdown",
      "source": [
        "Inference:\n",
        "After removal of duplicate enteries from our dataset we have 86914 entries/rows remained in our dataset"
      ],
      "metadata": {
        "id": "ZcrSuyPjzeH3"
      }
    },
    {
      "cell_type": "markdown",
      "source": [
        "#### Missing Values/Null Values"
      ],
      "metadata": {
        "id": "PoPl-ycgm1ru"
      }
    },
    {
      "cell_type": "code",
      "source": [
        "# Missing Values/Null Values Count\n",
        "data.isnull().sum()"
      ],
      "metadata": {
        "id": "GgHWkxvamxVg"
      },
      "execution_count": null,
      "outputs": []
    },
    {
      "cell_type": "code",
      "source": [
        "# Visualizing the missing values\n",
        "data.isnull().sum().plot(kind = 'bar')"
      ],
      "metadata": {
        "id": "3q5wnI3om9sJ"
      },
      "execution_count": null,
      "outputs": []
    },
    {
      "cell_type": "markdown",
      "source": [
        "From above dataset we can observe that out of total 119390 rows, 'agent' column contain 16340 null values and 'company' column contain 112593 null values. As these columns contain very large amount of NaN/Null values it will impact our analysis.\n",
        "And also we can see that, 488 values in 'country' and 4 values in 'children' column contain NaN/Null values and which is very less.\n",
        "So we will drop/delete \"agent\" and \"company\" column from the dataset."
      ],
      "metadata": {
        "id": "knlYQZUUzqEI"
      }
    },
    {
      "cell_type": "code",
      "source": [
        "# Using drop to drop/delete the column having large amount of missing values.\n",
        "#'company' column contains the company responsible for hotel booking, which is not needed for our analysis.\n",
        "# And 'agent' column contains booking agency id which is also not needed for our analysis now.\n",
        "\n",
        "data.drop(['agent', 'company'], axis = 1, inplace = True)"
      ],
      "metadata": {
        "id": "dB0XpQjszuaG"
      },
      "execution_count": null,
      "outputs": []
    },
    {
      "cell_type": "markdown",
      "source": [
        "### What did you know about your dataset?"
      ],
      "metadata": {
        "id": "H0kj-8xxnORC"
      }
    },
    {
      "cell_type": "markdown",
      "source": [
        "Answer Here\n",
        "\n",
        "We will drop the column 'children' and 'country' as the null values count is very low.\n",
        "And not replacing these values with MEAN or MEDIAN."
      ],
      "metadata": {
        "id": "gfoNAAC-nUe_"
      }
    },
    {
      "cell_type": "code",
      "source": [
        "# dropna will drop the rows from the data containing Null/NaN values in it providing axis = 0 which denotes rows.\n",
        "\n",
        "data.dropna(subset = ['children','country'], axis = 0, inplace = True)"
      ],
      "metadata": {
        "id": "pDCzsMYRzye3"
      },
      "execution_count": null,
      "outputs": []
    },
    {
      "cell_type": "code",
      "source": [
        "# Again checking the null values in our dataset\n",
        "\n",
        "data.isnull().sum()"
      ],
      "metadata": {
        "id": "ReANce_Pz0CJ"
      },
      "execution_count": null,
      "outputs": []
    },
    {
      "cell_type": "markdown",
      "source": [
        "We can see that, we have successfully removed NaN/Null values from our dataset."
      ],
      "metadata": {
        "id": "MrqRa9ZCz3SM"
      }
    },
    {
      "cell_type": "markdown",
      "source": [
        "## ***2. Understanding Your Variables***"
      ],
      "metadata": {
        "id": "nA9Y7ga8ng1Z"
      }
    },
    {
      "cell_type": "code",
      "source": [
        "# Dataset Columns\n",
        "data .columns"
      ],
      "metadata": {
        "id": "j7xfkqrt5Ag5"
      },
      "execution_count": null,
      "outputs": []
    },
    {
      "cell_type": "code",
      "source": [
        "# Dataset Describe\n",
        "data.describe()"
      ],
      "metadata": {
        "id": "DnOaZdaE5Q5t"
      },
      "execution_count": null,
      "outputs": []
    },
    {
      "cell_type": "markdown",
      "source": [
        "### Variables Description "
      ],
      "metadata": {
        "id": "PBTbrJXOngz2"
      }
    },
    {
      "cell_type": "markdown",
      "source": [
        "Answer Here\n",
        "From above we can observe that there are 119389 entries in the column.\n",
        "There are some columns which are having null values."
      ],
      "metadata": {
        "id": "aJV4KIxSnxay"
      }
    },
    {
      "cell_type": "markdown",
      "source": [
        "### Check Unique Values for each variable."
      ],
      "metadata": {
        "id": "u3PMJOP6ngxN"
      }
    },
    {
      "cell_type": "code",
      "source": [
        "# Check Unique Values for each variable."
      ],
      "metadata": {
        "id": "zms12Yq5n-jE"
      },
      "execution_count": null,
      "outputs": []
    },
    {
      "cell_type": "markdown",
      "source": [
        "## 3. ***Data Wrangling***"
      ],
      "metadata": {
        "id": "dauF4eBmngu3"
      }
    },
    {
      "cell_type": "markdown",
      "source": [
        "### Data Wrangling Code"
      ],
      "metadata": {
        "id": "bKJF3rekwFvQ"
      }
    },
    {
      "cell_type": "code",
      "source": [
        "# Write your code to make your dataset analysis ready.\n",
        "# Adding two columns 'children' and 'babies' to 'total_children' column\n",
        "\n",
        "data['total_children'] = data['children'] + data['babies']\n",
        "\n",
        "# Adding 'total_children' and 'adults' to 'total_customers' column\n",
        "\n",
        "data['total_customers'] = data['total_children'] + data['adults']"
      ],
      "metadata": {
        "id": "wk-9a2fpoLcV"
      },
      "execution_count": null,
      "outputs": []
    },
    {
      "cell_type": "markdown",
      "source": [
        "### What all manipulations have you done and insights you found?"
      ],
      "metadata": {
        "id": "MSa1f5Uengrz"
      }
    },
    {
      "cell_type": "code",
      "source": [
        "# Converting the data type of newly created columns from float type to integer type using astype from pandas\n",
        "\n",
        "data['total_children'] = data['total_children'].astype('int')\n",
        "data['total_customers'] = data['total_customers'].astype('int')"
      ],
      "metadata": {
        "id": "xaJ0OpCs0NKO"
      },
      "execution_count": null,
      "outputs": []
    },
    {
      "cell_type": "markdown",
      "source": [
        "Answer Here."
      ],
      "metadata": {
        "id": "LbyXE7I1olp8"
      }
    },
    {
      "cell_type": "markdown",
      "source": [
        "## ***4. Data Vizualization, Storytelling & Experimenting with charts : Understand the relationships between variables***"
      ],
      "metadata": {
        "id": "GF8Ens_Soomf"
      }
    },
    {
      "cell_type": "markdown",
      "source": [
        "#### Chart - 1"
      ],
      "metadata": {
        "id": "0wOQAZs5pc--"
      }
    },
    {
      "cell_type": "code",
      "source": [
        "# Using value counts method from pandas to get the count of each hotel type.\n",
        "\n",
        "count_of_hotel_type = data['hotel'].value_counts()\n",
        "print(f'The total count of each type of hotel is:\\n\\n{count_of_hotel_type}')"
      ],
      "metadata": {
        "id": "kuykoKCU0U_f"
      },
      "execution_count": null,
      "outputs": []
    },
    {
      "cell_type": "code",
      "source": [
        "# Chart - 1 visualization code\n",
        "# Unsing countplot from seaborn to get the count of bookings for each type of hotel\n",
        "\n",
        "sns.set_palette('bright')\n",
        "plt.figure(figsize= (8,4))\n",
        "\n",
        "plt.subplot(1,2,1)\n",
        "sns.countplot(data['hotel'])\n",
        "\n",
        "plt.title('Count for each Hotel type')\n",
        "plt.xlabel('Type of Hotel')\n",
        "plt.ylabel('Frequency')\n",
        "\n",
        "# Using pie from matplot to get the percent of bookings for each type of hotel\n",
        "\n",
        "plt.subplot(1,2,2)\n",
        "plt.pie(data['hotel'].value_counts(), labels = data['hotel'].value_counts().index, autopct = '%1.1f%%',shadow = True )\n",
        "plt.title('Percentage of booking for each Hotel')\n",
        "\n",
        "plt.show()"
      ],
      "metadata": {
        "id": "7v_ESjsspbW7"
      },
      "execution_count": null,
      "outputs": []
    },
    {
      "cell_type": "markdown",
      "source": [
        "##### 1. Why did you pick the specific chart?"
      ],
      "metadata": {
        "id": "K5QZ13OEpz2H"
      }
    },
    {
      "cell_type": "markdown",
      "source": [
        "Answer Here.\n",
        "\n",
        "<b>I picked the countplot chart and pie chart to visualize the frequency and percentage of bookings for each type of hotel respectively.</b>"
      ],
      "metadata": {
        "id": "XESiWehPqBRc"
      }
    },
    {
      "cell_type": "markdown",
      "source": [
        "##### 2. What is/are the insight(s) found from the chart?"
      ],
      "metadata": {
        "id": "lQ7QKXXCp7Bj"
      }
    },
    {
      "cell_type": "markdown",
      "source": [
        "Answer Here\n",
        "\n",
        "<b>\n",
        "The Bookings of city hotel are more than 50000 which is around 61.4% and the bookings of resort hotel are more than 30000 which is around 38.6%\n",
        "\n",
        "\n",
        "It means that City Hotel has more number of bookings than Resort Hotel.</b>"
      ],
      "metadata": {
        "id": "C_j1G7yiqdRP"
      }
    },
    {
      "cell_type": "markdown",
      "source": [
        "##### 3. Will the gained insights help creating a positive business impact? \n",
        "Are there any insights that lead to negative growth? Justify with specific reason."
      ],
      "metadata": {
        "id": "448CDAPjqfQr"
      }
    },
    {
      "cell_type": "markdown",
      "source": [
        "Answer Here\n",
        "\n",
        "<b>The gained insights can help businesses in the hospitality industry to make informed decisions. For instance, hotel owners can use this information to improve their marketing strategies and cater to the needs of their target customers. They can also adjust their pricing strategies based on the popularity of each type of hotel.</b>"
      ],
      "metadata": {
        "id": "3cspy4FjqxJW"
      }
    },
    {
      "cell_type": "markdown",
      "source": [
        "#### Chart - 2"
      ],
      "metadata": {
        "id": "KSlN3yHqYklG"
      }
    },
    {
      "cell_type": "code",
      "source": [
        "\n",
        "count_cancellation = data['is_canceled'].value_counts()\n",
        "print(f'The total count of cancellation and not cancellation:\\n\\n {count_cancellation}')"
      ],
      "metadata": {
        "id": "Cj1pPOfl01LC"
      },
      "execution_count": null,
      "outputs": []
    },
    {
      "cell_type": "code",
      "source": [
        "# Chart - 2 visualization code\n",
        "# Using countplot from seaborn to get the count of bookings cancelled or not\n",
        "\n",
        "sns.set_palette('bright')\n",
        "plt.figure(figsize = (6,4))\n",
        "\n",
        "plt.pie(list(count_cancellation), labels=['Not cancelled', 'Cancelled'], \n",
        "        autopct='%1.01f%%',startangle=90, explode= (0, 0.1))\n",
        "\n",
        "plt.title('Percent of hotel_type bookings')"
      ],
      "metadata": {
        "id": "R4YgtaqtYklH"
      },
      "execution_count": null,
      "outputs": []
    },
    {
      "cell_type": "markdown",
      "source": [
        "##### 1. Why did you pick the specific chart?"
      ],
      "metadata": {
        "id": "t6dVpIINYklI"
      }
    },
    {
      "cell_type": "markdown",
      "source": [
        "Answer Here.\n",
        "\n",
        "<b>I picked the pie chart to visualize the percentage of bookings that were cancelled and not cancelled.</b>"
      ],
      "metadata": {
        "id": "5aaW0BYyYklI"
      }
    },
    {
      "cell_type": "markdown",
      "source": [
        "##### 2. What is/are the insight(s) found from the chart?"
      ],
      "metadata": {
        "id": "ijmpgYnKYklI"
      }
    },
    {
      "cell_type": "markdown",
      "source": [
        "Answer Here\n",
        "\n",
        "<b>Hotels are less canceled as compare to cancellation bar</b>"
      ],
      "metadata": {
        "id": "PSx9atu2YklI"
      }
    },
    {
      "cell_type": "markdown",
      "source": [
        "##### 3. Will the gained insights help creating a positive business impact? \n",
        "Are there any insights that lead to negative growth? Justify with specific reason."
      ],
      "metadata": {
        "id": "-JiQyfWJYklI"
      }
    },
    {
      "cell_type": "markdown",
      "source": [
        "Answer Here\n",
        "\n",
        "<b>The gained insights can help businesses in the hospitality industry to take measures to reduce the number of cancellations. For instance, hotels can offer flexible cancellation policies or discounts for non-refundable bookings to encourage guests to commit to their reservations. They can also analyze the reasons for cancellations and take steps to address the underlying issues.</b>"
      ],
      "metadata": {
        "id": "BcBbebzrYklV"
      }
    },
    {
      "cell_type": "markdown",
      "source": [
        "#### Chart - 3"
      ],
      "metadata": {
        "id": "EM7whBJCYoAo"
      }
    },
    {
      "cell_type": "code",
      "source": [
        "# Ploting count plot to get the count of each type of segment booking the hotel ticket\n",
        "\n",
        "count_market_sgmt = data['market_segment'].value_counts()\n",
        "print('The market segment wise count of booking the hotel ticket is:\\n\\n' ,count_market_sgmt)"
      ],
      "metadata": {
        "id": "-z3ieeNI1LZH"
      },
      "execution_count": null,
      "outputs": []
    },
    {
      "cell_type": "code",
      "source": [
        "# Chart - 3 visualization code\n",
        "sns.set_palette('bright')\n",
        "plt.figure(figsize = (10,5))\n",
        "\n",
        "sns.countplot(data['market_segment'])\n",
        "\n",
        "plt.title('Market segment wise countplot')\n",
        "plt.xlabel('Market segments')\n",
        "plt.ylabel('Frequency')\n",
        "\n",
        "plt.show()"
      ],
      "metadata": {
        "id": "t6GMdE67YoAp"
      },
      "execution_count": null,
      "outputs": []
    },
    {
      "cell_type": "markdown",
      "source": [
        "##### 1. Why did you pick the specific chart?"
      ],
      "metadata": {
        "id": "fge-S5ZAYoAp"
      }
    },
    {
      "cell_type": "markdown",
      "source": [
        "Answer Here.\n",
        "\n",
        "<b>I picked the countplot chart to visualize the frequency of bookings for each market segment.\n",
        "\n",
        "The chart helps to give a clear picture of the popularity of each market segment among hotel guests.</b>"
      ],
      "metadata": {
        "id": "5dBItgRVYoAp"
      }
    },
    {
      "cell_type": "markdown",
      "source": [
        "##### 2. What is/are the insight(s) found from the chart?"
      ],
      "metadata": {
        "id": "85gYPyotYoAp"
      }
    },
    {
      "cell_type": "markdown",
      "source": [
        "Answer Here\n",
        "\n",
        "<b>Online TA - Online Travel Agent\n",
        "\n",
        "Offline TA/TO--> Offline Travel Agent and Travel Operator\n",
        "\n",
        "Online TA and Offline TA/TO has made maximum number of hotel bookings.</b>"
      ],
      "metadata": {
        "id": "4jstXR6OYoAp"
      }
    },
    {
      "cell_type": "markdown",
      "source": [
        "##### 3. Will the gained insights help creating a positive business impact? \n",
        "Are there any insights that lead to negative growth? Justify with specific reason."
      ],
      "metadata": {
        "id": "RoGjAbkUYoAp"
      }
    },
    {
      "cell_type": "markdown",
      "source": [
        "Answer Here\n",
        "\n",
        "<b>The gained insights can help businesses in the hospitality industry to tailor their marketing strategies and offerings to cater to the needs of each market segment. For instance, hotels can offer specialized packages or discounts for specific market segments to attract more guests. They can also partner with online travel agencies to increase their visibility and attract more bookings</b>"
      ],
      "metadata": {
        "id": "zfJ8IqMcYoAp"
      }
    },
    {
      "cell_type": "markdown",
      "source": [
        "#### Chart - 4"
      ],
      "metadata": {
        "id": "4Of9eVA-YrdM"
      }
    },
    {
      "cell_type": "code",
      "source": [
        "# Ploting count plot to get the count of each type of distribution Channel booking the hotel ticket\n",
        "\n",
        "count_distr_channel = data['distribution_channel'].value_counts()\n",
        "print('The distribution channel wise count of booking the hotel ticket is:\\n\\n' ,count_distr_channel)"
      ],
      "metadata": {
        "id": "cTl9DqFG1inZ"
      },
      "execution_count": null,
      "outputs": []
    },
    {
      "cell_type": "code",
      "source": [
        "# Chart - 4 visualization code\n",
        "sns.set_palette('bright')\n",
        "plt.figure(figsize = (10,5))\n",
        "\n",
        "sns.countplot(data['distribution_channel'])\n",
        "\n",
        "plt.title('Countplot for Distribution Channel')\n",
        "plt.xlabel('Distribution Channel')\n",
        "plt.ylabel('Frequency')\n",
        "\n",
        "plt.show()"
      ],
      "metadata": {
        "id": "irlUoxc8YrdO"
      },
      "execution_count": null,
      "outputs": []
    },
    {
      "cell_type": "markdown",
      "source": [
        "##### 1. Why did you pick the specific chart?"
      ],
      "metadata": {
        "id": "iky9q4vBYrdO"
      }
    },
    {
      "cell_type": "markdown",
      "source": [
        "Answer Here.\n",
        "\n",
        "<b>I  picked the countplot chart to visualize the frequency of bookings for each distribution channel.\n",
        "\n",
        "The chart helps to give a clear picture of the popularity of each distribution channel among hotel guests.</b>"
      ],
      "metadata": {
        "id": "aJRCwT6DYrdO"
      }
    },
    {
      "cell_type": "markdown",
      "source": [
        "##### 2. What is/are the insight(s) found from the chart?"
      ],
      "metadata": {
        "id": "F6T5p64dYrdO"
      }
    },
    {
      "cell_type": "markdown",
      "source": [
        "Answer Here\n",
        "\n",
        "<b>\n",
        "Offline TA/TO has made to maximum number of hotel bookings\n",
        "</b>"
      ],
      "metadata": {
        "id": "Xx8WAJvtYrdO"
      }
    },
    {
      "cell_type": "markdown",
      "source": [
        "##### 3. Will the gained insights help creating a positive business impact? \n",
        "Are there any insights that lead to negative growth? Justify with specific reason."
      ],
      "metadata": {
        "id": "y-Ehk30pYrdP"
      }
    },
    {
      "cell_type": "markdown",
      "source": [
        "Answer Here\n",
        "\n",
        "<b>\n",
        " The gained insights can help businesses in the hospitality industry to tailor their marketing strategies and offerings to cater to the needs of each distribution channel. \n",
        "</b>"
      ],
      "metadata": {
        "id": "jLNxxz7MYrdP"
      }
    },
    {
      "cell_type": "markdown",
      "source": [
        "#### Chart - 5"
      ],
      "metadata": {
        "id": "bamQiAODYuh1"
      }
    },
    {
      "cell_type": "code",
      "source": [
        "# Chart - 5 visualization code\n",
        "\n",
        "# Ploting count plot to get the prefered meal type of customers\n",
        "\n",
        "sns.set_palette('bright')\n",
        "plt.figure(figsize = (10,5))\n",
        "\n",
        "sns.countplot(data['meal'])\n",
        "\n",
        "plt.title('Most prefered Meal Type')\n",
        "plt.xlabel('Meal')\n",
        "plt.ylabel('Frequency')\n",
        "\n",
        "plt.show()\n"
      ],
      "metadata": {
        "id": "TIJwrbroYuh3"
      },
      "execution_count": null,
      "outputs": []
    },
    {
      "cell_type": "markdown",
      "source": [
        "##### 1. Why did you pick the specific chart?"
      ],
      "metadata": {
        "id": "QHF8YVU7Yuh3"
      }
    },
    {
      "cell_type": "markdown",
      "source": [
        "Answer Here.\n",
        "\n",
        "<b>I picked the countplot chart to visualize the frequency of bookings for each meal type.\n",
        "\n",
        "The chart helps to give a clear picture of the most preferred meal type among hotel guests.</b>"
      ],
      "metadata": {
        "id": "dcxuIMRPYuh3"
      }
    },
    {
      "cell_type": "markdown",
      "source": [
        "##### 2. What is/are the insight(s) found from the chart?"
      ],
      "metadata": {
        "id": "GwzvFGzlYuh3"
      }
    },
    {
      "cell_type": "markdown",
      "source": [
        "Answer Here\n",
        "\n",
        "<b>BB (Bread and Breakfast) is the most prefered meal of the customers.\n",
        "FB (Full Board) is least prefered meal.\n",
        "HB (Half Board) and SC (Self Catering) are equally prefered meal type</b>"
      ],
      "metadata": {
        "id": "uyqkiB8YYuh3"
      }
    },
    {
      "cell_type": "markdown",
      "source": [
        "##### 3. Will the gained insights help creating a positive business impact? \n",
        "Are there any insights that lead to negative growth? Justify with specific reason."
      ],
      "metadata": {
        "id": "qYpmQ266Yuh3"
      }
    },
    {
      "cell_type": "markdown",
      "source": [
        "Answer Here\n",
        "\n",
        "<b>The gained insights can help businesses in the hospitality industry to tailor their meal offerings and packages to cater to the needs of hotel guests. For instance, hotels can offer more packages that include breakfast as part of the booking, or they can offer customized meal plans to cater to guests' specific dietary requirements.</b>"
      ],
      "metadata": {
        "id": "_WtzZ_hCYuh4"
      }
    },
    {
      "cell_type": "markdown",
      "source": [
        "#### Chart - 6"
      ],
      "metadata": {
        "id": "OH-pJp9IphqM"
      }
    },
    {
      "cell_type": "code",
      "source": [
        "# Chart - 6 visualization code\n",
        "\n",
        "# Ploting count plot for Required car parking spaces\n",
        "\n",
        "sns.set_palette('bright')\n",
        "plt.figure(figsize = (10,5))\n",
        "\n",
        "sns.countplot(data['required_car_parking_spaces'])\n",
        "\n",
        "plt.title('Countplot for Required car parking spaces')\n",
        "plt.xlabel('Required car parking spaces')\n",
        "plt.ylabel('Frequency')\n",
        "\n",
        "plt.show()"
      ],
      "metadata": {
        "id": "kuRf4wtuphqN"
      },
      "execution_count": null,
      "outputs": []
    },
    {
      "cell_type": "markdown",
      "source": [
        "##### 1. Why did you pick the specific chart?"
      ],
      "metadata": {
        "id": "bbFf2-_FphqN"
      }
    },
    {
      "cell_type": "markdown",
      "source": [
        "Answer Here.\n",
        "\n",
        "<b>picked the countplot chart to visualize the frequency of bookings based on the required number of car parking spaces.</b>"
      ],
      "metadata": {
        "id": "loh7H2nzphqN"
      }
    },
    {
      "cell_type": "markdown",
      "source": [
        "##### 2. What is/are the insight(s) found from the chart?"
      ],
      "metadata": {
        "id": "_ouA3fa0phqN"
      }
    },
    {
      "cell_type": "markdown",
      "source": [
        "Answer Here\n",
        "\n",
        "<b>\n",
        "It shows no of hotel bookings require no car parking spaces.</b>"
      ],
      "metadata": {
        "id": "VECbqPI7phqN"
      }
    },
    {
      "cell_type": "markdown",
      "source": [
        "##### 3. Will the gained insights help creating a positive business impact? \n",
        "Are there any insights that lead to negative growth? Justify with specific reason."
      ],
      "metadata": {
        "id": "Seke61FWphqN"
      }
    },
    {
      "cell_type": "markdown",
      "source": [
        "Answer Here\n",
        "\n",
        "<b>The gained insights can help businesses in the hospitality industry to plan and allocate resources, such as parking spaces, more efficiently. Hotels can analyze the data to determine how many parking spaces they need to provide to meet the demand from guests. They can also use the data to offer additional services, such as car rental or shuttle services, to cater to the needs of guests who do not have a car.</b>"
      ],
      "metadata": {
        "id": "DW4_bGpfphqN"
      }
    },
    {
      "cell_type": "markdown",
      "source": [
        "#### Chart - 7"
      ],
      "metadata": {
        "id": "PIIx-8_IphqN"
      }
    },
    {
      "cell_type": "code",
      "source": [
        "# Chart - 7 visualization code\n",
        "sns.set_palette('bright')\n",
        "plt.figure(figsize = (15,7))\n",
        "\n",
        "sns.countplot(data['assigned_room_type'])\n",
        "\n",
        "plt.title('Prefered Room Type')\n",
        "plt.xlabel('assigned_room_type')\n",
        "plt.ylabel('Frequency')\n"
      ],
      "metadata": {
        "id": "lqAIGUfyphqO"
      },
      "execution_count": null,
      "outputs": []
    },
    {
      "cell_type": "markdown",
      "source": [
        "##### 1. Why did you pick the specific chart?"
      ],
      "metadata": {
        "id": "t27r6nlMphqO"
      }
    },
    {
      "cell_type": "markdown",
      "source": [
        "Answer Here.\n",
        "\n",
        "<b>You picked the countplot chart to visualize the frequency of bookings based on the preferred assigned room type.\n",
        "\n",
        "The chart helps to give a clear picture of the number of bookings that preferred a particular assigned room type.</b>"
      ],
      "metadata": {
        "id": "iv6ro40sphqO"
      }
    },
    {
      "cell_type": "markdown",
      "source": [
        "##### 2. What is/are the insight(s) found from the chart?"
      ],
      "metadata": {
        "id": "r2jJGEOYphqO"
      }
    },
    {
      "cell_type": "markdown",
      "source": [
        "Answer Here\n",
        "\n",
        "<b>Room type A and D are most prefered by the guests.</b>"
      ],
      "metadata": {
        "id": "Po6ZPi4hphqO"
      }
    },
    {
      "cell_type": "markdown",
      "source": [
        "##### 3. Will the gained insights help creating a positive business impact? \n",
        "Are there any insights that lead to negative growth? Justify with specific reason."
      ],
      "metadata": {
        "id": "b0JNsNcRphqO"
      }
    },
    {
      "cell_type": "markdown",
      "source": [
        "Answer Here\n",
        "\n",
        "<b>The gained insights can help hotels to plan and allocate their resources better. They can use this information to make informed decisions on how to allocate rooms and which type of rooms to prioritize. For example, hotels can analyze the data to determine which room types are in high demand and ensure that they have enough rooms of that type available for booking.</b>"
      ],
      "metadata": {
        "id": "xvSq8iUTphqO"
      }
    },
    {
      "cell_type": "markdown",
      "source": [
        "#### Chart - 8"
      ],
      "metadata": {
        "id": "BZR9WyysphqO"
      }
    },
    {
      "cell_type": "code",
      "source": [
        "# Chart - 8 visualization code\n",
        "# Ploting count plot for no of special requests\n",
        "\n",
        "sns.set_palette('bright')\n",
        "plt.figure(figsize = (10,5))\n",
        "\n",
        "sns.countplot(data['total_of_special_requests'])\n",
        "plt.title('Countplot for no of Special requests')\n",
        "plt.xlabel('Total no of special requests')\n",
        "plt.ylabel('Frequency')\n",
        "\n",
        "plt.show()"
      ],
      "metadata": {
        "id": "TdPTWpAVphqO"
      },
      "execution_count": null,
      "outputs": []
    },
    {
      "cell_type": "markdown",
      "source": [
        "##### 1. Why did you pick the specific chart?"
      ],
      "metadata": {
        "id": "jj7wYXLtphqO"
      }
    },
    {
      "cell_type": "markdown",
      "source": [
        "Answer Here.\n",
        "\n",
        "<b>This bar chart is heloing us to differentiate the level of different special request made by the customers</b>"
      ],
      "metadata": {
        "id": "Ob8u6rCTphqO"
      }
    },
    {
      "cell_type": "markdown",
      "source": [
        "##### 2. What is/are the insight(s) found from the chart?"
      ],
      "metadata": {
        "id": "eZrbJ2SmphqO"
      }
    },
    {
      "cell_type": "markdown",
      "source": [
        "Answer Here\n",
        "\n",
        "<b>More than 40000 hotel bookings have no special request\n",
        "\n",
        "Around 30000 hotel bookings have single special request\n",
        "\n",
        "More than 10000 hotel bookings have two special requests</b>"
      ],
      "metadata": {
        "id": "mZtgC_hjphqO"
      }
    },
    {
      "cell_type": "markdown",
      "source": [
        "##### 3. Will the gained insights help creating a positive business impact? \n",
        "Are there any insights that lead to negative growth? Justify with specific reason."
      ],
      "metadata": {
        "id": "rFu4xreNphqO"
      }
    },
    {
      "cell_type": "markdown",
      "source": [
        "Answer Here\n",
        "\n",
        "<b> The hotel management to understand their customers' needs and preferences, and to allocate resources and staff accordingly. For example, if most customers do not have any special requests, the hotel can focus on providing a streamlined and efficient check-in and check-out process, rather than investing in additional resources for fulfilling special requests.</b>"
      ],
      "metadata": {
        "id": "ey_0qi68phqO"
      }
    },
    {
      "cell_type": "markdown",
      "source": [
        "#### Chart - 9"
      ],
      "metadata": {
        "id": "YJ55k-q6phqO"
      }
    },
    {
      "cell_type": "code",
      "source": [
        "# Using drop to drop/delete the columns\n",
        "\n",
        "data.drop(['children','babies','adults'], axis = 1, inplace = True)"
      ],
      "metadata": {
        "id": "_vxkHzis3gBt"
      },
      "execution_count": null,
      "outputs": []
    },
    {
      "cell_type": "code",
      "source": [
        "# Again checking the shape of the dataset\n",
        "\n",
        "print('The shape of the dataset is', data.shape)"
      ],
      "metadata": {
        "id": "oIYkbpNA3hHf"
      },
      "execution_count": null,
      "outputs": []
    },
    {
      "cell_type": "code",
      "source": [
        "# Getting the count of total children using value_count method\n",
        "\n",
        "count_total_children = data['total_children'].value_counts()\n",
        "print('The count of total children is:\\n\\n', count_total_children)"
      ],
      "metadata": {
        "id": "ErT4LvgH3lRQ"
      },
      "execution_count": null,
      "outputs": []
    },
    {
      "cell_type": "code",
      "source": [
        "# Chart - 9 visualization code\n",
        "# Ploting the bar plot of total no of children\n",
        "\n",
        "sns.set_palette('bright')\n",
        "plt.figure(figsize = (8,4))\n",
        "\n",
        "sns.barplot(count_total_children.index, list(count_total_children))\n",
        "plt.title('Barplot of total no of children')\n",
        "plt.xlabel('Total no of children')\n",
        "plt.ylabel('Frequency')\n",
        "\n",
        "plt.show()"
      ],
      "metadata": {
        "id": "B2aS4O1ophqO"
      },
      "execution_count": null,
      "outputs": []
    },
    {
      "cell_type": "markdown",
      "source": [
        "##### 1. Why did you pick the specific chart?"
      ],
      "metadata": {
        "id": "gCFgpxoyphqP"
      }
    },
    {
      "cell_type": "markdown",
      "source": [
        "Answer Here.\n",
        "\n",
        "<b>so chatGPT if someone ask me that\n",
        "\n",
        "Why did you pick the specific chart?\n",
        "What is/are the insight(s) found from the chart?\n",
        "Will the gained insights help creating a positive business impact?\n",
        "Are there any insights that lead to negative growth? Justify with specific reason.</b>"
      ],
      "metadata": {
        "id": "TVxDimi2phqP"
      }
    },
    {
      "cell_type": "markdown",
      "source": [
        "##### 2. What is/are the insight(s) found from the chart?"
      ],
      "metadata": {
        "id": "OVtJsKN_phqQ"
      }
    },
    {
      "cell_type": "markdown",
      "source": [
        "Answer Here\n",
        "\n",
        "<b>Customers with children doesn't have much preference for the Hotel Booking.</b>"
      ],
      "metadata": {
        "id": "ngGi97qjphqQ"
      }
    },
    {
      "cell_type": "markdown",
      "source": [
        "##### 3. Will the gained insights help creating a positive business impact? \n",
        "Are there any insights that lead to negative growth? Justify with specific reason."
      ],
      "metadata": {
        "id": "lssrdh5qphqQ"
      }
    },
    {
      "cell_type": "markdown",
      "source": [
        "Answer Here\n",
        "\n",
        "<b>From the plot, we can see that most customers who stayed at the hotel didn't have any children with them, while a few customers had one or two children. This information could be useful for the hotel management to plan their room allocations, inventory management of children's amenities, and food arrangements for children. </b>"
      ],
      "metadata": {
        "id": "tBpY5ekJphqQ"
      }
    },
    {
      "cell_type": "markdown",
      "source": [
        "#### Chart - 10"
      ],
      "metadata": {
        "id": "U2RJ9gkRphqQ"
      }
    },
    {
      "cell_type": "code",
      "source": [
        "# Chart - 10 visualization code\n",
        "# Grouping together 'hotel type' and 'is_canceled' to get the count of hotel wise cancellation of booking\n",
        "\n",
        "cancellation_hotel_type = data.groupby(['hotel','is_canceled'])['is_canceled'].count()\n",
        "cancellation_hotel_type = cancellation_hotel_type.unstack()\n",
        "\n",
        "print('The count of hotel wise cancellation of booking is:\\n\\n')\n",
        "cancellation_hotel_type"
      ],
      "metadata": {
        "id": "GM7a4YP4phqQ"
      },
      "execution_count": null,
      "outputs": []
    },
    {
      "cell_type": "code",
      "source": [
        "# Plotting the bar plot for Hotel wise cancellation rate\n",
        "\n",
        "sns.set_palette('bright')\n",
        "plt.figure(figsize = (8,4))\n",
        "\n",
        "cancellation_hotel_type.plot(kind = 'bar')\n",
        "plt.xticks(rotation = 0)\n",
        "\n",
        "plt.title('Hotel wise cancellation rate')\n",
        "plt.xlabel('Hotel types')\n",
        "plt.ylabel('Cancellation Rate')\n",
        "\n",
        "plt.show()"
      ],
      "metadata": {
        "id": "Tqez1I6I39iA"
      },
      "execution_count": null,
      "outputs": []
    },
    {
      "cell_type": "markdown",
      "source": [
        "##### 1. Why did you pick the specific chart?"
      ],
      "metadata": {
        "id": "1M8mcRywphqQ"
      }
    },
    {
      "cell_type": "markdown",
      "source": [
        "Answer Here.\n",
        "\n",
        "<b>The chart was chosen to analyze the cancellation rate of different hotel types. From the chart, it is observed that the city hotel has a higher cancellation rate than the resort hotel.</b>"
      ],
      "metadata": {
        "id": "8agQvks0phqQ"
      }
    },
    {
      "cell_type": "markdown",
      "source": [
        "##### 2. What is/are the insight(s) found from the chart?"
      ],
      "metadata": {
        "id": "tgIPom80phqQ"
      }
    },
    {
      "cell_type": "markdown",
      "source": [
        "Answer Here\n",
        "\n",
        "<b>There is less cancellation occured for Resort Hotels as compare to City hotels</b>"
      ],
      "metadata": {
        "id": "Qp13pnNzphqQ"
      }
    },
    {
      "cell_type": "markdown",
      "source": [
        "##### 3. Will the gained insights help creating a positive business impact? \n",
        "Are there any insights that lead to negative growth? Justify with specific reason."
      ],
      "metadata": {
        "id": "JMzcOPDDphqR"
      }
    },
    {
      "cell_type": "markdown",
      "source": [
        "Answer Here\n",
        "\n",
        "<b>The business identify the reasons for a higher cancellation rate in city hotels and take necessary actions to reduce it. For instance, the business may want to focus on improving the customer experience, offering more flexible booking options, and reducing the risk of overbooking.</b>"
      ],
      "metadata": {
        "id": "R4Ka1PC2phqR"
      }
    },
    {
      "cell_type": "markdown",
      "source": [
        "#### Chart - 11"
      ],
      "metadata": {
        "id": "x-EpHcCOp1ci"
      }
    },
    {
      "cell_type": "code",
      "source": [
        "# Chart - 11 visualization code\n",
        "\n",
        "# Ploting count plot for monthly customers\n",
        "\n",
        "sns.set_palette('bright')\n",
        "plt.figure(figsize = (15,5))\n",
        "\n",
        "sns.countplot(x = 'arrival_date_month', hue = 'hotel', data = data)\n",
        "\n",
        "plt.title('Monthly Customers')\n",
        "plt.xlabel('Arrival date month')\n",
        "plt.ylabel('Count of Booking')\n",
        "\n",
        "plt.show()"
      ],
      "metadata": {
        "id": "mAQTIvtqp1cj"
      },
      "execution_count": null,
      "outputs": []
    },
    {
      "cell_type": "markdown",
      "source": [
        "##### 1. Why did you pick the specific chart?"
      ],
      "metadata": {
        "id": "X_VqEhTip1ck"
      }
    },
    {
      "cell_type": "markdown",
      "source": [
        "Answer Here.\n",
        "\n",
        "<b>I picked this chart to visualize the number of bookings made in each month of the year for both hotel types. This chart allows you to compare the booking trends between the two hotel types and observe any monthly patterns.</b>"
      ],
      "metadata": {
        "id": "-vsMzt_np1ck"
      }
    },
    {
      "cell_type": "markdown",
      "source": [
        "##### 2. What is/are the insight(s) found from the chart?"
      ],
      "metadata": {
        "id": "8zGJKyg5p1ck"
      }
    },
    {
      "cell_type": "markdown",
      "source": [
        "Answer Here\n",
        "\n",
        "<b>The graph shows that City hotels receive more guests as compared to resort hotel throughout the year.\n",
        "\n",
        "July and August month seems to be busiest month for both City hotel and Resort Hotel.</b>"
      ],
      "metadata": {
        "id": "ZYdMsrqVp1ck"
      }
    },
    {
      "cell_type": "markdown",
      "source": [
        "##### 3. Will the gained insights help creating a positive business impact? \n",
        "Are there any insights that lead to negative growth? Justify with specific reason."
      ],
      "metadata": {
        "id": "PVzmfK_Ep1ck"
      }
    },
    {
      "cell_type": "markdown",
      "source": [
        "Answer Here\n",
        "\n",
        "<b>The gained insights can help hotel management teams to plan their resources and allocate their budgets more effectively for different months of the year. They can identify peak booking periods for each hotel type and adjust their marketing strategies to attract more customers during off-peak periods.</b>"
      ],
      "metadata": {
        "id": "druuKYZpp1ck"
      }
    },
    {
      "cell_type": "markdown",
      "source": [
        "#### Chart - 12"
      ],
      "metadata": {
        "id": "n3dbpmDWp1ck"
      }
    },
    {
      "cell_type": "code",
      "source": [
        "# Grouping together 'cancellation rate' and 'required_car_parking_spaces' to get the count of cancellation of booking due to parking space\n",
        "\n",
        "cancellation_dueto_car_parking = data.groupby(['required_car_parking_spaces','is_canceled'])['is_canceled'].count()\n",
        "cancellation_dueto_car_parking = cancellation_dueto_car_parking.unstack()\n",
        "\n",
        "print('The count of cancellation of booking due to parking space is:\\n\\n')\n",
        "cancellation_dueto_car_parking"
      ],
      "metadata": {
        "id": "5zRT6hw44qDf"
      },
      "execution_count": null,
      "outputs": []
    },
    {
      "cell_type": "code",
      "source": [
        "# Chart - 12 visualization code\n",
        "\n",
        "# Plotting the bar plot for cancellation of hotel booking due to car parking spaces\n",
        "\n",
        "sns.set_palette('bright')\n",
        "plt.figure(figsize = (10,5))\n",
        "\n",
        "cancellation_dueto_car_parking.plot(kind = 'bar')\n",
        "plt.xticks(rotation = 0)\n",
        "\n",
        "plt.title('cancellation Due to car parking spaces')\n",
        "plt.xlabel('Required_parking_spaces')\n",
        "plt.ylabel('Cancellation Rate')\n",
        "\n",
        "plt.show()"
      ],
      "metadata": {
        "id": "bwevp1tKp1ck"
      },
      "execution_count": null,
      "outputs": []
    },
    {
      "cell_type": "markdown",
      "source": [
        "##### 1. Why did you pick the specific chart?"
      ],
      "metadata": {
        "id": "ylSl6qgtp1ck"
      }
    },
    {
      "cell_type": "markdown",
      "source": [
        "Answer Here.\n",
        "\n",
        "<b>Used bar plot to show the cancellation rate of hotel bookings based on the required number of car parking spaces. </b>\n"
      ],
      "metadata": {
        "id": "m2xqNkiQp1ck"
      }
    },
    {
      "cell_type": "markdown",
      "source": [
        "##### 2. What is/are the insight(s) found from the chart?"
      ],
      "metadata": {
        "id": "ZWILFDl5p1ck"
      }
    },
    {
      "cell_type": "markdown",
      "source": [
        "Answer Here\n",
        "\n",
        "<b>This graph tells us that, most no of guests has no demand for parking space.</b>"
      ],
      "metadata": {
        "id": "x-lUsV2mp1ck"
      }
    },
    {
      "cell_type": "markdown",
      "source": [
        "##### 3. Will the gained insights help creating a positive business impact? \n",
        "Are there any insights that lead to negative growth? Justify with specific reason."
      ],
      "metadata": {
        "id": "M7G43BXep1ck"
      }
    },
    {
      "cell_type": "markdown",
      "source": [
        "Answer Here\n",
        "\n",
        "<b>This chart could help in understanding the importance of car parking spaces in hotel bookings and how it can impact the cancellation rate. The insights gained from this chart can help hotels in identifying the number of car parking spaces required to meet their guests' expectations and minimize the cancellation rate.</b>"
      ],
      "metadata": {
        "id": "5wwDJXsLp1cl"
      }
    },
    {
      "cell_type": "markdown",
      "source": [
        "#### Chart - 13"
      ],
      "metadata": {
        "id": "Ag9LCva-p1cl"
      }
    },
    {
      "cell_type": "code",
      "source": [
        "# Chart - 13 visualization code\n",
        "# Grouping hotel type and market segment together and getting the count of bookings occured for hotel types\n",
        "\n",
        "market_segment_hotel_booking = data.groupby(['hotel', 'market_segment']).size()\n",
        "market_segment_hotel_booking = market_segment_hotel_booking.unstack()\n",
        "\n",
        "print('Booking done by each Market segement for each kind of hotel:')\n",
        "market_segment_hotel_booking"
      ],
      "metadata": {
        "id": "EUfxeq9-p1cl"
      },
      "execution_count": null,
      "outputs": []
    },
    {
      "cell_type": "code",
      "source": [
        "# ploting bar graph for each kind hotel booking by different Market segment\n",
        "\n",
        "market_segment_hotel_booking.plot(kind = 'bar', figsize = (12,6))\n",
        "\n",
        "plt.title(\"Hotel Type VS Market segment Bookings\")\n",
        "plt.xlabel('Type of Hotel')\n",
        "plt.ylabel('Total number of bookings')\n",
        "plt.legend(loc = 'upper center')\n",
        "\n",
        "plt.show()"
      ],
      "metadata": {
        "id": "ZFMkWZpc5IP8"
      },
      "execution_count": null,
      "outputs": []
    },
    {
      "cell_type": "markdown",
      "source": [
        "##### 1. Why did you pick the specific chart?"
      ],
      "metadata": {
        "id": "E6MkPsBcp1cl"
      }
    },
    {
      "cell_type": "markdown",
      "source": [
        "Answer Here.\n",
        "\n",
        "<b>The specific chart is a bar plot showing the total number of bookings for each market segment for each type of hotel.</b>"
      ],
      "metadata": {
        "id": "V22bRsFWp1cl"
      }
    },
    {
      "cell_type": "markdown",
      "source": [
        "##### 2. What is/are the insight(s) found from the chart?"
      ],
      "metadata": {
        "id": "2cELzS2fp1cl"
      }
    },
    {
      "cell_type": "markdown",
      "source": [
        "Answer Here\n",
        "\n",
        "<b>For City Hotel as well as for Resort Hotel maximum number of bookings is done by Online TA (Travel Agent)</b>"
      ],
      "metadata": {
        "id": "ozQPc2_Ip1cl"
      }
    },
    {
      "cell_type": "markdown",
      "source": [
        "##### 3. Will the gained insights help creating a positive business impact? \n",
        "Are there any insights that lead to negative growth? Justify with specific reason."
      ],
      "metadata": {
        "id": "3MPXvC8up1cl"
      }
    },
    {
      "cell_type": "markdown",
      "source": [
        "Answer Here\n",
        "\n",
        "<b>The gained insights can help businesses to understand which market segments to focus on for marketing and sales efforts, and to tailor their offerings and services to meet the needs of these segments. By identifying the most lucrative segments, businesses can allocate resources more effectively and potentially increase revenue.</b>"
      ],
      "metadata": {
        "id": "GL8l1tdLp1cl"
      }
    },
    {
      "cell_type": "code",
      "source": [],
      "metadata": {
        "id": "H9JeFRLd5Fs3"
      },
      "execution_count": null,
      "outputs": []
    },
    {
      "cell_type": "markdown",
      "source": [
        "#### Chart - 14 - Correlation Heatmap"
      ],
      "metadata": {
        "id": "NC_X3p0fY2L0"
      }
    },
    {
      "cell_type": "code",
      "source": [
        "# Correlation Heatmap visualization code\n",
        "corrltn = data.corr()\n",
        "plt.figure(figsize = (20,10))\n",
        "sns.heatmap(corrltn, annot = True)\n",
        "plt.show()"
      ],
      "metadata": {
        "id": "xyC9zolEZNRQ"
      },
      "execution_count": null,
      "outputs": []
    },
    {
      "cell_type": "markdown",
      "source": [
        "##### 1. Why did you pick the specific chart?"
      ],
      "metadata": {
        "id": "UV0SzAkaZNRQ"
      }
    },
    {
      "cell_type": "markdown",
      "source": [
        "Answer Here.\n",
        "\n",
        "<b>Heat map is a great plot by seaborn help us to under stand the correlation visually</b>"
      ],
      "metadata": {
        "id": "DVPuT8LYZNRQ"
      }
    },
    {
      "cell_type": "markdown",
      "source": [
        "##### 2. What is/are the insight(s) found from the chart?"
      ],
      "metadata": {
        "id": "YPEH6qLeZNRQ"
      }
    },
    {
      "cell_type": "markdown",
      "source": [
        "Answer Here\n",
        "\n",
        "<b>adr is correlated with total_customers, which clearly states that as more no of customers more will be the adr(average daily rate)\n",
        "\n",
        "is_canceled is influenced a little bit by lead time feature only.</b>"
      ],
      "metadata": {
        "id": "bfSqtnDqZNRR"
      }
    },
    {
      "cell_type": "markdown",
      "source": [
        "#### Chart - 15 - Pair Plot "
      ],
      "metadata": {
        "id": "q29F0dvdveiT"
      }
    },
    {
      "cell_type": "code",
      "source": [
        "# Pair Plot visualization code\n",
        "numerical_c = data.select_dtypes(include = 'number').columns"
      ],
      "metadata": {
        "id": "o58-TEIhveiU"
      },
      "execution_count": null,
      "outputs": []
    },
    {
      "cell_type": "code",
      "source": [
        "sns.pairplot(data.select_dtypes(include = 'number'))\n",
        "plt.show()"
      ],
      "metadata": {
        "id": "6gmMwFv-5c-2"
      },
      "execution_count": null,
      "outputs": []
    },
    {
      "cell_type": "markdown",
      "source": [
        "##### 1. Why did you pick the specific chart?"
      ],
      "metadata": {
        "id": "EXh0U9oCveiU"
      }
    },
    {
      "cell_type": "markdown",
      "source": [
        "Answer Here."
      ],
      "metadata": {
        "id": "eMmPjTByveiU"
      }
    },
    {
      "cell_type": "markdown",
      "source": [
        "##### 2. What is/are the insight(s) found from the chart?"
      ],
      "metadata": {
        "id": "22aHeOlLveiV"
      }
    },
    {
      "cell_type": "markdown",
      "source": [
        "Answer Here"
      ],
      "metadata": {
        "id": "uPQ8RGwHveiV"
      }
    },
    {
      "cell_type": "markdown",
      "source": [
        "## **5. Solution to Business Objective**"
      ],
      "metadata": {
        "id": "JcMwzZxoAimU"
      }
    },
    {
      "cell_type": "markdown",
      "source": [
        "#### What do you suggest the client to achieve Business Objective ? \n",
        "Explain Briefly."
      ],
      "metadata": {
        "id": "8G2x9gOozGDZ"
      }
    },
    {
      "cell_type": "markdown",
      "source": [
        "Answer Here.\n",
        "\n",
        "## **Conclusion and Outcomes of total EDA process**\n",
        "\n",
        "1. Majority of booking is done for City hotels.\n",
        "2. If we see the cancellation rate Resort hotels have less cancellation rate than City Hotels.\n",
        "3. Online TA and Offline TA/TO has made to maximum number of hotel bookings.\n",
        "4. The most no of bookings for City hotels happen in the month of July and August.\n",
        "5. Also we can say that for Resort hotels, August month is most crowded month. \n",
        "6. Maximum no of bookings require no car parking space.\n",
        "7. According to distribution channel, offline TA/TO has made maximum no of bookings.\n",
        "8. There are some special requests also from customers while booking.\n",
        "9. Customers with children doesn't have much preference for the Hotel Booking.\n",
        "10. adr is more during June, July and August for Resort hotels.\n",
        "11. adr is more during May, June and August for City hotels.\n",
        "12. Cancellation rate is higher for online TA.\n",
        "13. Cancellation is more likely to happen with deposite type - Non Refund.\n",
        "14. BB(Bed and Breakfast) is the most prefered type of meal by the Guests. \n"
      ],
      "metadata": {
        "id": "pASKb0qOza21"
      }
    },
    {
      "cell_type": "markdown",
      "source": [
        "# **Conclusion**"
      ],
      "metadata": {
        "id": "gCX9965dhzqZ"
      }
    },
    {
      "cell_type": "markdown",
      "source": [
        "Write the conclusion here.\n",
        "\n",
        "## **Final Summary**\n",
        "\n",
        "Majority of hotel bookings is for City hotels. As compared to City hotels, Resort hotels have fewer cancellation rate. \n",
        "\n",
        "The month July and August are very crucial for City Hotels because maximum no of bookings occur during these two months. If we see, the adr is more in May, June and August for City Hotels. Also the adr is more in the month June, July and August for Resort hotels. The majority of bookings are made through Online TA and Offline TA/TO.\n",
        "\n",
        "Children are not a major factor in determining the preference for hotel booking.  Some of the customers have some special requests while doing the booking. BB (Bed & Breakfast) type of meal is mostly prefered by the customers. Maximum customers require no parking space. The cancellation rate is higher for online TA, and cancellations are more likely to happen with a Non-Refundable deposit type. Maximum no of bookings are done through online TA for both types of Hotel. This means customers prefer online booking through website.   \n"
      ],
      "metadata": {
        "id": "Fjb1IsQkh3yE"
      }
    },
    {
      "cell_type": "markdown",
      "source": [
        "### ***Hurrah! You have successfully completed your EDA Capstone Project !!!***"
      ],
      "metadata": {
        "id": "gIfDvo9L0UH2"
      }
    }
  ]
}